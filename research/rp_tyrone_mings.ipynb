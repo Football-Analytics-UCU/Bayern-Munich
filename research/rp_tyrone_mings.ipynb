{
  "nbformat": 4,
  "nbformat_minor": 0,
  "metadata": {
    "colab": {
      "provenance": []
    },
    "kernelspec": {
      "name": "python3",
      "display_name": "Python 3"
    },
    "language_info": {
      "name": "python"
    }
  },
  "cells": [
    {
      "cell_type": "markdown",
      "source": [
        "# Бібліотека [tyrone_mings](https://github.com/FCrSTATS/tyrone_mings)"
      ],
      "metadata": {
        "id": "0YIg9i8f1tmd"
      }
    },
    {
      "cell_type": "markdown",
      "source": [
        "# Інсталяція"
      ],
      "metadata": {
        "id": "Wq7xvj3t4R1-"
      }
    },
    {
      "cell_type": "code",
      "source": [
        "!pip install tyrone_mings #інсталюємо бібліотеку"
      ],
      "metadata": {
        "id": "IfF24qlu4ZwS"
      },
      "execution_count": null,
      "outputs": []
    },
    {
      "cell_type": "markdown",
      "source": [
        "Увага! В вас може виникнути помилка при імпорті бібліотеки. В цьому випадку спочатку запустити команди нижче."
      ],
      "metadata": {
        "id": "yA0R00ZE4zpA"
      }
    },
    {
      "cell_type": "code",
      "source": [
        "# Fix\n",
        "!pip uninstall js2xml # програма запитає чи хочете ви видалити цю бібліотеку. Введіть Y і натисніть Enter\n",
        "!pip install js2xml"
      ],
      "metadata": {
        "id": "RoMfE0oV73QI"
      },
      "execution_count": null,
      "outputs": []
    },
    {
      "cell_type": "code",
      "source": [
        "import tyrone_mings as tm #імпортуємо бібліотеку"
      ],
      "metadata": {
        "id": "4w3GaIQA4yRi"
      },
      "execution_count": 5,
      "outputs": []
    },
    {
      "cell_type": "markdown",
      "source": [
        "Основне призначення бібліотеки це збирати данні з сайту [transfermarkt](https://www.transfermarkt.com/). Але бібліотеку давно не оновлювали тому вона не працює належним чином. Наприклад команда яка повинна повертати інформацію про гравця повертає лише None:"
      ],
      "metadata": {
        "id": "xLm4vVXo8uAm"
      }
    },
    {
      "cell_type": "code",
      "source": [
        "player_page = \"https://www.transfermarkt.com/marcos-leonardo/profil/spieler/668267\"\n",
        "market_value_data = tm.tm_pull(player_page, player_bio = True, market_value_history = True, output = 'pandas')\n",
        "print(market_value_data['player_bio'])\n",
        "print(isinstance(market_value_data, dict))"
      ],
      "metadata": {
        "colab": {
          "base_uri": "https://localhost:8080/"
        },
        "id": "6SXWV4319B43",
        "outputId": "9e69a636-d41e-4596-ee70-79cc127b0a73"
      },
      "execution_count": 16,
      "outputs": [
        {
          "output_type": "stream",
          "name": "stdout",
          "text": [
            "  player_id headshot_url full_name  \\\n",
            "0    668267         None      None   \n",
            "\n",
            "                                         player_name day_of_birth  \\\n",
            "0  \\n\\n                        #36               ...         None   \n",
            "\n",
            "  month_of_birth year_of_birth   pob   cob   dob position position_main  \\\n",
            "0           None          None  None  None  None     None          None   \n",
            "\n",
            "  position_alt1 position_alt2 height  foot citizenship second_citizenship  \n",
            "0          None          None   None  None        None               None  \n",
            "True\n"
          ]
        }
      ]
    }
  ]
}
