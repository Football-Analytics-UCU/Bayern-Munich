{
  "nbformat": 4,
  "nbformat_minor": 0,
  "metadata": {
    "colab": {
      "provenance": []
    },
    "kernelspec": {
      "name": "python3",
      "display_name": "Python 3"
    },
    "language_info": {
      "name": "python"
    }
  },
  "cells": [
    {
      "cell_type": "markdown",
      "source": [
        "# Бібліотека [codeball](https://github.com/metrica-sports/codeball/)"
      ],
      "metadata": {
        "id": "0YIg9i8f1tmd"
      }
    },
    {
      "cell_type": "markdown",
      "source": [
        "Бібліотека досі знаходиться в процесі розробки і як пишуть її автори вона поки підтримує тільки Metrica Sports Elite датасет які недоступні в вільному доступі."
      ],
      "metadata": {
        "id": "d__Go-oK2Y9h"
      }
    }
  ]
}
